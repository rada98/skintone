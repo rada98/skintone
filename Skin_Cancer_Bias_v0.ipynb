{
 "cells": [
  {
   "cell_type": "code",
   "execution_count": 1,
   "metadata": {},
   "outputs": [
    {
     "name": "stdout",
     "output_type": "stream",
     "text": [
      "Collecting git+https://github.com/keras-team/keras-preprocessing.git\n",
      "  Cloning https://github.com/keras-team/keras-preprocessing.git to c:\\users\\pc_user\\appdata\\local\\temp\\pip-req-build-m8nzy6ak\n",
      "Requirement already satisfied (use --upgrade to upgrade): Keras-Preprocessing==1.1.2 from git+https://github.com/keras-team/keras-preprocessing.git in c:\\users\\pc_user\\anaconda3\\envs\\cs7643\\lib\\site-packages\n",
      "Requirement already satisfied: numpy>=1.9.1 in c:\\users\\pc_user\\anaconda3\\envs\\cs7643\\lib\\site-packages (from Keras-Preprocessing==1.1.2) (1.15.4)\n",
      "Requirement already satisfied: six>=1.9.0 in c:\\users\\pc_user\\anaconda3\\envs\\cs7643\\lib\\site-packages (from Keras-Preprocessing==1.1.2) (1.12.0)\n",
      "Building wheels for collected packages: Keras-Preprocessing\n",
      "  Building wheel for Keras-Preprocessing (setup.py): started\n",
      "  Building wheel for Keras-Preprocessing (setup.py): finished with status 'done'\n",
      "  Created wheel for Keras-Preprocessing: filename=Keras_Preprocessing-1.1.2-cp36-none-any.whl size=43244 sha256=bf71b5d36a0dc76b1cc3dd2f05f7ce5cf76784c37bd6193993f6ac35d637e29c\n",
      "  Stored in directory: C:\\Users\\Pc_User\\AppData\\Local\\Temp\\pip-ephem-wheel-cache-p5s6rxhr\\wheels\\03\\a0\\39\\171f6040d36f36c71168dc69afa81334351b20955dc36ce932\n",
      "Successfully built Keras-Preprocessing\n"
     ]
    },
    {
     "name": "stderr",
     "output_type": "stream",
     "text": [
      "  Running command git clone -q https://github.com/keras-team/keras-preprocessing.git 'C:\\Users\\Pc_User\\AppData\\Local\\Temp\\pip-req-build-m8nzy6ak'\n"
     ]
    }
   ],
   "source": [
    "! pip install git+https://github.com/keras-team/keras-preprocessing.git\n"
   ]
  },
  {
   "cell_type": "markdown",
   "metadata": {},
   "source": [
    "## For the moment only read a batch of 1000 images"
   ]
  },
  {
   "cell_type": "code",
   "execution_count": 13,
   "metadata": {},
   "outputs": [
    {
     "name": "stdout",
     "output_type": "stream",
     "text": [
      "Found 33126 validated image filenames belonging to 2 classes.\n"
     ]
    }
   ],
   "source": [
    "from keras_preprocessing.image import ImageDataGenerator\n",
    "import numpy as np\n",
    "import pandas as pd\n",
    "import matplotlib.pyplot as plt\n",
    "import seaborn as sns\n",
    "sns.set_style('darkgrid')\n",
    "df = pd.read_csv(\"C:/Users/Pc_User/Desktop/IBM/train.csv\")\n",
    "df['image_name'] = df['image_name'].apply(lambda x: x + \".jpg\")\n",
    "datagen = ImageDataGenerator()\n",
    "first_batch = datagen.flow_from_dataframe(dataframe=df, \n",
    "                                            directory=\"C:/Users/Pc_User/Desktop/IBM/train\", \n",
    "                                            x_col=\"image_name\", y_col=\"benign_malignant\", \n",
    "                                            class_mode = 'binary', \n",
    "                                            target_size=(256,256), \n",
    "                                            batch_size=1000)[0][0]"
   ]
  },
  {
   "cell_type": "markdown",
   "metadata": {},
   "source": [
    "## Create a threshold for images having black corners"
   ]
  },
  {
   "cell_type": "code",
   "execution_count": 15,
   "metadata": {},
   "outputs": [
    {
     "name": "stdout",
     "output_type": "stream",
     "text": [
      "129\n"
     ]
    }
   ],
   "source": [
    "im = first_batch.shape[0]\n",
    "\n",
    "batch = first_batch[list(np.where(np.count_nonzero(first_batch < 50, axis=(1,2,3)) < 1e4)[0]), :, :, :]\n",
    "\n",
    "discarded_images = im - batch.shape[0]\n",
    "print(discarded_images)"
   ]
  },
  {
   "cell_type": "markdown",
   "metadata": {},
   "source": [
    "## Average image rectangle"
   ]
  },
  {
   "cell_type": "code",
   "execution_count": 16,
   "metadata": {},
   "outputs": [],
   "source": [
    "top_height, bottom_height, left_width, right_width = 230, 240, 120, 140\n",
    "\n",
    "image_rectangles = batch[:, top_height:bottom_height, left_width:right_width, :]"
   ]
  },
  {
   "cell_type": "code",
   "execution_count": 17,
   "metadata": {},
   "outputs": [
    {
     "data": {
      "text/plain": [
       "(10, 20, 3)"
      ]
     },
     "execution_count": 17,
     "metadata": {},
     "output_type": "execute_result"
    }
   ],
   "source": [
    "average_image_rectangle = np.sum(image_rectangles, axis=0) / image_rectangles.shape[0]\n",
    "average_image_rectangle.shape"
   ]
  },
  {
   "cell_type": "code",
   "execution_count": 18,
   "metadata": {},
   "outputs": [
    {
     "data": {
      "text/plain": [
       "<matplotlib.image.AxesImage at 0x291b50b5d30>"
      ]
     },
     "execution_count": 18,
     "metadata": {},
     "output_type": "execute_result"
    },
    {
     "data": {
      "image/png": "[encoded data removed]",
      "text/plain": [
       "<Figure size 432x288 with 1 Axes>"
      ]
     },
     "metadata": {},
     "output_type": "display_data"
    }
   ],
   "source": [
    "plt.imshow(np.array(average_image_rectangle, dtype = int))"
   ]
  },
  {
   "cell_type": "markdown",
   "metadata": {},
   "source": [
    "## Grand mean average among channels"
   ]
  },
  {
   "cell_type": "code",
   "execution_count": 19,
   "metadata": {},
   "outputs": [
    {
     "data": {
      "text/plain": [
       "array([172.57167 , 167.39166 , 164.33333 , 192.77333 , 192.55333 ,\n",
       "       200.22    , 225.945   , 155.02834 , 218.7     , 222.375   ,\n",
       "       232.51666 , 128.315   , 164.935   , 174.275   , 203.57333 ,\n",
       "       211.49333 , 200.41167 , 171.13333 , 231.61667 , 169.31334 ,\n",
       "       209.02333 , 185.22833 , 168.77667 , 162.43167 , 189.92    ,\n",
       "       165.08333 , 156.98167 , 183.235   , 169.83167 , 202.84666 ,\n",
       "       184.945   , 212.08667 , 148.34833 , 224.56    , 203.92166 ,\n",
       "       213.22166 , 214.71834 , 170.40167 , 223.20334 , 238.95833 ,\n",
       "       215.51666 , 193.475   , 132.36833 , 155.58    , 211.48666 ,\n",
       "       223.33167 , 204.77167 , 194.50833 , 223.18666 , 233.22333 ,\n",
       "       232.48833 , 198.75166 , 205.43666 , 146.26167 , 206.40334 ,\n",
       "       199.23666 , 152.14    , 225.04834 , 216.58667 , 172.755   ,\n",
       "       203.675   , 177.64667 , 175.765   , 215.555   , 222.91333 ,\n",
       "       212.39166 , 152.24834 , 222.045   , 213.13167 , 244.23334 ,\n",
       "       207.83167 , 119.57667 , 202.89833 , 155.66    , 170.18666 ,\n",
       "       163.05667 , 166.90834 , 184.00667 , 164.77    , 215.00166 ,\n",
       "       174.32834 , 194.95166 , 233.78334 , 152.60333 , 221.47667 ,\n",
       "       119.515   , 190.08333 , 168.13    , 227.65167 , 160.03667 ,\n",
       "       205.41667 , 217.60167 , 213.575   , 156.69167 , 117.78167 ,\n",
       "       192.62    , 202.90167 , 141.34666 , 196.98666 , 194.37167 ,\n",
       "       126.13    , 128.785   , 196.21333 , 215.97333 , 185.60834 ,\n",
       "       233.735   , 186.32    , 239.43    , 153.90167 , 131.195   ,\n",
       "       129.97166 , 204.64    , 176.63667 , 226.49834 , 205.07167 ,\n",
       "       221.30333 , 232.69    , 206.82666 ,  88.041664, 208.37167 ,\n",
       "       132.93333 , 149.76833 , 178.88    , 244.87666 , 220.68167 ,\n",
       "       126.065   , 156.06833 , 146.11333 , 225.415   , 221.32333 ,\n",
       "       207.73666 , 222.05    , 234.915   , 188.42667 , 219.36    ,\n",
       "       171.87666 , 217.84    , 121.595   , 210.46    , 171.04333 ,\n",
       "       226.41667 , 198.08333 , 185.65834 , 194.79666 , 177.18333 ,\n",
       "       230.605   , 224.35667 , 188.92166 , 222.12666 , 194.465   ,\n",
       "       167.16333 , 135.38667 , 151.30667 , 168.42667 , 234.68    ,\n",
       "       152.92    , 217.99    , 129.465   , 144.61166 , 195.25333 ,\n",
       "       212.965   , 133.345   , 201.39667 , 155.72    , 166.41333 ,\n",
       "       145.31334 , 155.14    , 228.22667 , 184.96834 , 163.11    ,\n",
       "       219.30667 , 138.93    , 217.41333 , 207.51833 , 129.61333 ,\n",
       "       204.95667 , 222.25166 , 218.075   , 231.33167 , 197.70667 ,\n",
       "       216.82333 , 133.60834 , 129.58167 , 235.25833 , 214.10167 ,\n",
       "       128.64333 , 199.41833 , 214.23833 , 217.22833 , 233.90834 ,\n",
       "       214.42166 , 207.175   , 188.89667 , 186.15834 , 184.075   ,\n",
       "       161.15167 , 208.37167 , 181.40834 , 212.305   , 182.12833 ,\n",
       "       162.87    , 177.44667 , 224.925   , 216.81166 , 209.25833 ,\n",
       "       180.94    , 176.87167 , 156.93834 , 197.15666 , 118.335   ,\n",
       "       134.66833 , 192.52167 , 147.99167 , 186.49333 , 218.40167 ,\n",
       "       179.32167 , 212.93666 , 202.36667 , 223.35834 , 119.66    ,\n",
       "       172.59833 , 124.525   , 110.043335, 204.30333 , 217.95    ,\n",
       "       174.49667 , 140.67    , 207.43666 , 187.86166 , 202.20334 ,\n",
       "       202.86833 , 202.97833 , 171.34833 , 198.975   , 225.515   ,\n",
       "       210.39333 , 196.22166 , 215.565   , 213.06    , 218.64667 ,\n",
       "       163.96333 , 220.85333 , 199.18167 , 240.605   , 205.73    ,\n",
       "       180.30333 , 200.91833 , 164.87    , 219.385   , 158.54834 ,\n",
       "       215.13834 , 157.96167 , 226.08667 , 137.715   , 217.675   ,\n",
       "       217.34166 , 131.21666 , 193.73167 , 221.67    , 150.71    ,\n",
       "       233.42    , 224.275   , 231.05833 , 127.92    , 112.77333 ,\n",
       "       194.44833 , 201.77834 , 156.52834 ,  78.525   , 193.28334 ,\n",
       "       176.59334 , 145.29666 , 220.11333 , 166.155   , 145.395   ,\n",
       "       158.42334 , 208.27834 , 206.86333 , 226.13667 , 226.46666 ,\n",
       "       225.46    , 206.27167 , 212.475   , 185.22667 , 181.605   ,\n",
       "       222.77667 , 209.58833 , 178.39833 , 192.325   , 207.33167 ,\n",
       "       228.93333 , 157.77834 , 156.54834 , 208.37    , 150.12    ,\n",
       "       227.07834 , 217.815   , 210.45334 , 219.38834 , 141.19333 ,\n",
       "       106.42834 , 191.80333 , 153.48833 , 136.62334 , 176.01334 ,\n",
       "       135.13667 , 125.831665, 149.72667 , 192.22667 , 114.25833 ,\n",
       "       158.465   , 223.08333 , 234.45    , 221.18834 , 202.605   ,\n",
       "       223.97833 , 222.26334 , 221.64333 , 181.41667 , 231.80333 ,\n",
       "       180.14667 , 213.73167 , 200.79834 , 204.97833 , 192.48666 ,\n",
       "       227.73    , 199.46    , 211.065   , 130.56334 , 233.77667 ,\n",
       "       177.115   , 115.595   , 107.17834 , 154.455   , 219.585   ,\n",
       "       194.005   , 180.16333 , 221.59166 , 216.91    , 185.045   ,\n",
       "       173.91667 , 210.825   , 162.82    , 230.92833 , 232.76167 ,\n",
       "       171.45667 , 229.755   , 189.845   , 155.305   , 218.575   ,\n",
       "       224.57333 , 145.40666 , 216.85834 , 196.27333 , 228.07    ,\n",
       "       211.26167 , 205.24333 , 191.295   , 183.52333 , 162.88167 ,\n",
       "       212.43834 , 132.96167 , 193.24    , 219.905   , 175.38    ,\n",
       "       190.04834 , 155.33167 , 169.515   , 124.57333 , 212.82333 ,\n",
       "       144.265   , 119.85333 , 187.91    , 179.555   , 167.57666 ,\n",
       "       113.76833 , 135.41667 , 144.58833 , 142.15834 , 123.38    ,\n",
       "       206.38167 , 224.265   , 168.54167 , 209.57333 , 168.94833 ,\n",
       "       207.565   , 206.625   , 233.22333 , 178.8     , 189.90167 ,\n",
       "       199.95    , 142.65666 , 205.65666 , 231.51167 , 228.50667 ,\n",
       "       196.79    , 195.56667 , 231.59    , 237.39833 , 154.15666 ,\n",
       "       136.84    , 230.215   , 248.70833 , 153.425   , 139.18834 ,\n",
       "       166.39333 , 211.505   , 165.815   , 166.33333 , 221.63667 ,\n",
       "       225.68167 , 193.79666 , 219.94667 , 181.63167 , 159.53833 ,\n",
       "       176.08833 , 190.05333 , 166.21666 , 183.54834 , 213.34    ,\n",
       "       228.795   , 195.7     , 207.75    , 215.37334 , 126.23    ,\n",
       "       141.98833 , 232.80167 , 146.18834 , 143.905   , 172.81833 ,\n",
       "       202.62833 , 217.88333 , 139.18333 , 213.49667 , 200.14333 ,\n",
       "       219.43666 , 204.48167 , 217.135   , 224.09    , 187.94167 ,\n",
       "       233.85667 , 205.11667 , 207.65834 , 176.63667 , 181.51833 ,\n",
       "       232.34166 , 210.77667 , 177.13834 , 223.565   , 183.74167 ,\n",
       "       209.15834 , 170.53166 , 142.74834 , 224.46    , 223.95    ,\n",
       "       101.07166 , 209.85333 , 191.58667 , 189.06833 , 134.87666 ,\n",
       "       212.205   , 211.65666 , 199.97667 , 181.075   , 214.95    ,\n",
       "       234.53833 , 196.91    , 173.44    , 210.22333 , 182.65    ,\n",
       "       225.09833 , 232.89833 , 104.68833 , 188.75833 , 215.355   ,\n",
       "       207.87833 , 228.82    , 145.05667 , 230.98    , 227.10834 ,\n",
       "       197.14667 , 223.84666 , 190.70833 , 198.8     , 213.32333 ,\n",
       "       140.54666 , 136.34166 , 188.11833 , 196.12334 , 188.85667 ,\n",
       "       204.09166 , 225.93333 , 216.54666 , 220.66667 , 210.80333 ,\n",
       "       182.07167 , 224.73666 , 164.52834 , 235.61833 , 181.65167 ,\n",
       "       196.55    , 152.88667 , 211.46834 , 149.17    , 152.82167 ,\n",
       "       220.205   , 178.60834 , 143.79834 , 185.44333 , 220.21333 ,\n",
       "       172.21    , 163.29    , 221.01666 , 235.44833 , 235.61    ,\n",
       "       180.035   , 206.21666 , 212.315   , 182.24    , 219.43834 ,\n",
       "       208.43666 , 163.17    , 198.94167 , 220.69    , 166.16    ,\n",
       "       205.075   , 175.97    , 211.29    , 192.76666 , 217.60667 ,\n",
       "       164.63667 , 171.145   , 178.355   , 191.49    , 151.72166 ,\n",
       "       208.23    , 143.44333 , 168.605   , 186.095   , 229.455   ,\n",
       "       223.765   , 193.83333 , 193.62334 , 238.43834 , 225.75166 ,\n",
       "       220.145   , 153.40666 , 223.09166 , 199.69    , 221.535   ,\n",
       "       173.01833 , 217.87833 , 196.96666 , 206.59166 , 153.35167 ,\n",
       "       224.82167 , 218.50166 , 153.40167 , 165.55833 , 193.425   ,\n",
       "       236.785   , 220.83    , 129.855   , 222.60167 , 198.39833 ,\n",
       "       201.42166 , 148.89667 , 181.83833 , 162.88333 , 178.22833 ,\n",
       "       224.98334 , 151.435   , 217.69333 , 146.255   , 192.70166 ,\n",
       "       198.13167 , 208.09833 , 199.01    , 215.535   , 147.13333 ,\n",
       "       207.01334 , 147.22    , 217.545   , 192.62666 , 227.33333 ,\n",
       "       244.92334 , 229.24167 , 114.34167 , 133.57333 , 218.60667 ,\n",
       "       216.29666 , 213.72833 , 188.53    , 134.67667 , 148.75166 ,\n",
       "       169.435   , 165.42    , 175.17667 , 178.635   , 232.84334 ,\n",
       "       215.51833 , 184.66333 , 164.22333 , 215.28166 , 226.48833 ,\n",
       "       190.22833 , 225.69833 , 178.36667 , 172.33333 , 227.93834 ,\n",
       "       237.55667 , 222.96167 , 167.81    , 164.265   , 163.97166 ,\n",
       "       160.225   , 199.99167 , 196.85    , 189.68333 , 181.265   ,\n",
       "       211.24333 , 227.62167 , 154.71333 , 215.98334 , 207.16833 ,\n",
       "       212.58333 , 215.95667 , 212.54666 , 186.88167 , 165.48167 ,\n",
       "       225.45833 , 138.45334 , 231.57167 , 206.74333 , 223.11    ,\n",
       "       202.755   , 185.06334 , 197.08167 , 210.64166 , 172.48833 ,\n",
       "       195.17833 , 140.14667 , 171.85667 , 128.73    , 169.98167 ,\n",
       "       172.50166 , 193.495   , 160.58167 , 183.89667 , 229.21    ,\n",
       "       178.35667 , 140.65666 , 139.57666 , 220.52    , 219.73833 ,\n",
       "       167.215   , 149.86166 , 188.475   , 180.925   , 233.95833 ,\n",
       "       219.26334 , 202.24    , 218.87833 , 231.575   , 223.915   ,\n",
       "       154.22667 , 165.25    , 168.32    , 196.85    , 212.43834 ,\n",
       "       163.76334 , 162.57834 , 194.63333 , 151.11833 , 183.27333 ,\n",
       "       224.895   , 175.995   , 229.36333 , 236.935   , 201.45667 ,\n",
       "       230.46167 , 132.56334 , 133.18    , 134.25667 , 143.33833 ,\n",
       "       202.15334 , 152.73833 , 125.505   , 117.205   , 193.025   ,\n",
       "       210.49    , 199.      , 200.115   , 207.4     , 210.705   ,\n",
       "       129.255   , 141.37334 , 216.71167 , 206.37    , 211.35167 ,\n",
       "       187.60167 , 158.93333 , 212.33333 , 120.30167 , 224.40666 ,\n",
       "       209.26    , 219.90334 , 214.515   , 147.17833 , 217.69833 ,\n",
       "       133.79    , 224.88667 , 206.085   , 160.125   , 225.56667 ,\n",
       "       218.63667 , 206.66667 , 202.94167 , 167.13167 , 146.69667 ,\n",
       "       143.32167 , 179.60834 , 226.67    , 226.985   , 233.63    ,\n",
       "       122.18    , 228.92667 , 119.486664, 195.98167 , 229.97833 ,\n",
       "       181.      , 169.90834 , 195.77667 , 223.45    , 208.61333 ,\n",
       "       208.07666 , 204.65334 , 202.43333 , 195.18834 , 173.26334 ,\n",
       "       176.56334 , 191.48    , 210.05667 , 224.85667 , 184.46333 ,\n",
       "       214.77167 , 161.00667 , 205.94833 , 206.46834 , 229.15167 ,\n",
       "       203.77    , 222.815   , 210.54333 , 183.69167 , 123.885   ,\n",
       "       185.43167 , 210.045   , 171.30167 , 212.06166 , 154.68167 ,\n",
       "       182.10667 , 217.68834 , 193.73334 , 182.015   , 196.23833 ,\n",
       "       214.445   , 165.87833 , 220.85667 , 223.69167 , 227.245   ,\n",
       "       221.76334 , 182.88167 , 145.88167 , 185.095   , 164.62    ,\n",
       "       199.86    , 126.236664, 231.46834 , 219.915   , 214.155   ,\n",
       "       192.57834 , 188.60834 , 126.755   , 221.515   , 178.10333 ,\n",
       "       219.86166 , 225.16167 , 208.55667 , 187.41333 , 225.90167 ,\n",
       "       221.58333 , 149.26    , 191.265   , 215.32167 , 217.28166 ,\n",
       "       226.83833 , 202.42334 , 173.84666 , 232.67833 , 218.465   ,\n",
       "       216.74834 , 208.83667 , 132.54333 , 215.815   , 122.43166 ,\n",
       "       120.02167 , 191.08667 , 216.885   , 158.95    , 152.33833 ,\n",
       "       181.13333 , 192.34166 , 237.405   , 193.41167 , 176.94333 ,\n",
       "       231.40334 , 115.70167 , 230.41333 , 142.21333 , 195.75333 ,\n",
       "       187.15167 , 162.98666 , 212.51334 , 228.72166 , 209.75833 ,\n",
       "       148.91167 , 183.06166 , 223.27167 , 192.32666 , 201.22333 ,\n",
       "       217.45833 , 220.44333 , 137.22333 , 212.14667 , 225.005   ,\n",
       "       173.64    , 223.315   , 186.15834 , 218.67    , 165.30333 ,\n",
       "       179.82666 , 215.98666 , 211.49167 , 217.14    , 184.185   ,\n",
       "       203.28667 , 137.255   , 169.74667 , 180.18167 , 209.41667 ,\n",
       "       166.13667 , 177.86166 , 108.05167 , 205.18834 , 148.155   ,\n",
       "       213.81667 , 159.52167 , 160.23334 , 230.78    , 225.24    ,\n",
       "       216.62    , 211.73    , 166.22333 , 135.445   , 232.39833 ,\n",
       "       161.05    , 165.19667 , 230.15334 , 222.015   , 177.70667 ,\n",
       "       227.57167 ], dtype=float32)"
      ]
     },
     "execution_count": 19,
     "metadata": {},
     "output_type": "execute_result"
    }
   ],
   "source": [
    "average_image_colour = np.sum(image_rectangles, axis=tuple((range(1, image_rectangles.ndim)))) / np.prod(image_rectangles.shape[1:])\n",
    "average_image_colour"
   ]
  },
  {
   "cell_type": "code",
   "execution_count": 20,
   "metadata": {},
   "outputs": [
    {
     "data": {
      "text/plain": [
       "(array([  2.,   6.,  37.,  66.,  81., 117., 138., 172., 210.,  42.]),\n",
       " array([ 78.525   ,  95.543335, 112.56167 , 129.58    , 146.59833 ,\n",
       "        163.61667 , 180.635   , 197.65334 , 214.67166 , 231.69    ,\n",
       "        248.70833 ], dtype=float32),\n",
       " <a list of 10 Patch objects>)"
      ]
     },
     "execution_count": 20,
     "metadata": {},
     "output_type": "execute_result"
    },
    {
     "data": {
      "image/png": "[encoded data removed]",
      "text/plain": [
       "<Figure size 432x288 with 1 Axes>"
      ]
     },
     "metadata": {},
     "output_type": "display_data"
    }
   ],
   "source": [
    "plt.hist(average_image_colour)"
   ]
  },
  {
   "cell_type": "markdown",
   "metadata": {},
   "source": [
    "## Mean colour for each channel"
   ]
  },
  {
   "cell_type": "code",
   "execution_count": 21,
   "metadata": {},
   "outputs": [
    {
     "data": {
      "text/plain": [
       "array([[191.845, 170.945, 154.925],\n",
       "       [194.55 , 169.955, 137.67 ],\n",
       "       [181.54 , 161.08 , 150.38 ],\n",
       "       ...,\n",
       "       [249.97 , 206.645, 209.43 ],\n",
       "       [208.53 , 154.   , 170.59 ],\n",
       "       [253.075, 212.645, 216.995]], dtype=float32)"
      ]
     },
     "execution_count": 21,
     "metadata": {},
     "output_type": "execute_result"
    }
   ],
   "source": [
    "average_image_rgb = np.sum(image_rectangles, axis=tuple((range(1, image_rectangles.ndim - 1)))) / np.prod(image_rectangles.shape[1:len(image_rectangles.shape) - 1])\n",
    "average_image_rgb"
   ]
  },
  {
   "cell_type": "code",
   "execution_count": 27,
   "metadata": {},
   "outputs": [
    {
     "data": {
      "text/plain": [
       "<BarContainer object of 10 artists>"
      ]
     },
     "execution_count": 27,
     "metadata": {},
     "output_type": "execute_result"
    },
    {
     "data": {
      "image/png": "[encoded data removed]",
      "text/plain": [
       "<Figure size 432x288 with 1 Axes>"
      ]
     },
     "metadata": {},
     "output_type": "display_data"
    }
   ],
   "source": [
    "fig, ax = plt.subplots()\n",
    "\n",
    "r, r_bins = np.histogram(average_image_rgb[:, 0])\n",
    "g, g_bins = np.histogram(average_image_rgb[:, 1], bins=r_bins)\n",
    "b, b_bins = np.histogram(average_image_rgb[:, 2], bins=r_bins)\n",
    "\n",
    "width = (r_bins[1] - r_bins[0])/4\n",
    "\n",
    "np.arange(average_image_rgb.shape[0]),\n",
    "ax.bar(x=r_bins[:-1], height=r, width=width, facecolor='r')\n",
    "ax.bar(x=g_bins[:-1]+width, height=g, width=width, facecolor='seagreen')\n",
    "ax.bar(x=b_bins[:-1]+width*2, height=b, width=width, facecolor='cornflowerblue')"
   ]
  },
  {
   "cell_type": "markdown",
   "metadata": {},
   "source": [
    "## Clustering"
   ]
  },
  {
   "cell_type": "code",
   "execution_count": 28,
   "metadata": {},
   "outputs": [],
   "source": [
    "from sklearn.cluster import KMeans\n",
    "from mpl_toolkits.mplot3d import Axes3D\n",
    "\n",
    "km = KMeans(n_clusters=2, random_state=0)"
   ]
  },
  {
   "cell_type": "code",
   "execution_count": 29,
   "metadata": {},
   "outputs": [
    {
     "data": {
      "text/plain": [
       "<mpl_toolkits.mplot3d.art3d.Path3DCollection at 0x291b5fcab38>"
      ]
     },
     "execution_count": 29,
     "metadata": {},
     "output_type": "execute_result"
    },
    {
     "data": {
      "image/png": "[encoded data removed]",
      "text/plain": [
       "<Figure size 720x720 with 1 Axes>"
      ]
     },
     "metadata": {},
     "output_type": "display_data"
    }
   ],
   "source": [
    "fig = plt.figure(figsize=(10, 10))\n",
    "ax = Axes3D(fig, rect=[0.15, 0.15, 0.25, 0.25], elev=48, azim=100)\n",
    "\n",
    "km.fit(average_image_rgb)\n",
    "labels = km.labels_\n",
    "\n",
    "ax.scatter(average_image_rgb[:, 0], average_image_rgb[:, 1], average_image_rgb[:, 2], \n",
    "           c = labels.astype(np.float), \n",
    "           edgecolor='k')"
   ]
  }
 ],
 "metadata": {
  "kernelspec": {
   "display_name": "Python 3",
   "language": "python",
   "name": "python3"
  },
  "language_info": {
   "codemirror_mode": {
    "name": "ipython",
    "version": 3
   },
   "file_extension": ".py",
   "mimetype": "text/x-python",
   "name": "python",
   "nbconvert_exporter": "python",
   "pygments_lexer": "ipython3",
   "version": "3.6.1"
  }
 },
 "nbformat": 4,
 "nbformat_minor": 2
}
